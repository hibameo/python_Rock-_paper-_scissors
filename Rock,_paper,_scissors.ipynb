{
  "nbformat": 4,
  "nbformat_minor": 0,
  "metadata": {
    "colab": {
      "provenance": [],
      "authorship_tag": "ABX9TyP/yuQ0Nszf3JK7RTtS8wXf",
      "include_colab_link": true
    },
    "kernelspec": {
      "name": "python3",
      "display_name": "Python 3"
    },
    "language_info": {
      "name": "python"
    }
  },
  "cells": [
    {
      "cell_type": "markdown",
      "metadata": {
        "id": "view-in-github",
        "colab_type": "text"
      },
      "source": [
        "<a href=\"https://colab.research.google.com/github/hibameo/python_Rock-_paper-_scissors/blob/main/Rock%2C_paper%2C_scissors.ipynb\" target=\"_parent\"><img src=\"https://colab.research.google.com/assets/colab-badge.svg\" alt=\"Open In Colab\"/></a>"
      ]
    },
    {
      "cell_type": "code",
      "execution_count": null,
      "metadata": {
        "id": "_EstYsg0WeT2"
      },
      "outputs": [],
      "source": [
        "\n",
        "import random\n",
        "\n",
        "def get_computer_choice():\n",
        "    choices = [\"rock\", \"paper\", \"scissors\"]\n",
        "    return random.choice(choices)\n",
        "\n",
        "def determine_winner(user_choice, computer_choice):\n",
        "    if user_choice == computer_choice:\n",
        "        return \"It's a tie!\"\n",
        "    elif (user_choice == \"rock\" and computer_choice == \"scissors\") or \\\n",
        "         (user_choice == \"scissors\" and computer_choice == \"paper\") or \\\n",
        "         (user_choice == \"paper\" and computer_choice == \"rock\"):\n",
        "        return \"You win!\"\n",
        "    else:\n",
        "        return \"Computer wins!\"\n",
        "\n",
        "def play_game():\n",
        "    print(\"Welcome to Rock, Paper, Scissors!\")\n",
        "    print(\"Type 'rock', 'paper', or 'scissors' to play. Type 'exit' to quit the game.\")\n",
        "\n",
        "    while True:\n",
        "        user_choice = input(\"\\nEnter your choice: \").lower()\n",
        "        if user_choice == \"exit\":\n",
        "            print(\"Thanks for playing!\")\n",
        "            break\n",
        "        elif user_choice not in [\"rock\", \"paper\", \"scissors\"]:\n",
        "            print(\"Invalid choice! Please choose rock, paper, or scissors.\")\n",
        "            continue\n",
        "\n",
        "        computer_choice = get_computer_choice()\n",
        "        print(f\"Computer chose: {computer_choice}\")\n",
        "        result = determine_winner(user_choice, computer_choice)\n",
        "        print(result)\n",
        "\n",
        "# Start the game\n",
        "play_game()"
      ]
    }
  ]
}